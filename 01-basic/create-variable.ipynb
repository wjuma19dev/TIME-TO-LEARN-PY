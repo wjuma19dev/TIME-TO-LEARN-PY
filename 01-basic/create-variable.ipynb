{
 "cells": [
  {
   "cell_type": "markdown",
   "metadata": {},
   "source": [
    "# Variable aren't only number\n",
    "\n",
    "### Example\n",
    "\n",
    "create variable to store the following information about a job posting:\n",
    "\n",
    "###### - Job Id (integer)\n",
    "###### - Company Name (string)\n",
    "###### - Salary rate (string, but consider how you might store this as a numerical type for calculation)\n",
    "###### - Job Work Form Home (boolean)"
   ]
  },
  {
   "cell_type": "code",
   "execution_count": 8,
   "metadata": {},
   "outputs": [
    {
     "name": "stdout",
     "output_type": "stream",
     "text": [
      "Data Job Description\n",
      "Job Id: 1\n",
      "Company Name: Datawiz Inc.\n",
      "Job Title Data Analitic\n"
     ]
    }
   ],
   "source": [
    "company_name = 'Datawiz Inc.'\n",
    "job_wfh = True\n",
    "salary_rate = .10\n",
    "job_title = 'Data Analitic'\n",
    "base_salary = 100000\n",
    "job_salary = (base_salary) * (1+salary_rate)\n",
    "job_id = 1\n",
    "\n",
    "print('Data Job Description')\n",
    "print('Job Id:',job_id)\n",
    "print('Company Name:',company_name)\n",
    "print('Job Title:', job_title)\n",
    "\n"
   ]
  }
 ],
 "metadata": {
  "kernelspec": {
   "display_name": "Python 3",
   "language": "python",
   "name": "python3"
  },
  "language_info": {
   "codemirror_mode": {
    "name": "ipython",
    "version": 3
   },
   "file_extension": ".py",
   "mimetype": "text/x-python",
   "name": "python",
   "nbconvert_exporter": "python",
   "pygments_lexer": "ipython3",
   "version": "3.10.12"
  }
 },
 "nbformat": 4,
 "nbformat_minor": 2
}
